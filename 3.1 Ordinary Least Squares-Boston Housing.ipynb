{
 "metadata": {
  "language_info": {
   "codemirror_mode": {
    "name": "ipython",
    "version": 3
   },
   "file_extension": ".py",
   "mimetype": "text/x-python",
   "name": "python",
   "nbconvert_exporter": "python",
   "pygments_lexer": "ipython3",
   "version": "3.8.5-final"
  },
  "orig_nbformat": 2,
  "kernelspec": {
   "name": "Python 3.8.5 32-bit",
   "display_name": "Python 3.8.5 32-bit",
   "metadata": {
    "interpreter": {
     "hash": "7a542ca580817fc4dd55327026e074e2fa0cd470fc5dee9350c2d8b13822db8d"
    }
   }
  }
 },
 "nbformat": 4,
 "nbformat_minor": 2,
 "cells": [
  {
   "source": [
    "# The Boston Housing\n",
    "\n",
    "- Prepared By: Ammar Nassan Alhaj Ali.\n",
    "- Date: 2020-10-12.\n",
    "- References: 1-introduction to machine learning with python a guide for data scientists 2017 (Andreas C. Müller and Sarah Guido)."
   ],
   "cell_type": "markdown",
   "metadata": {}
  },
  {
   "source": [
    "# 1- The problem\n",
    "- The task associated with this dataset is to predict the median value of homes in several Boston neighborhoods in the 1970s, using information such as crime rate, proximity to the Charles River, highway accessibility, and so on. The dataset contains 506 data points, described by 13 features:"
   ],
   "cell_type": "markdown",
   "metadata": {}
  },
  {
   "cell_type": "code",
   "execution_count": 7,
   "metadata": {},
   "outputs": [
    {
     "output_type": "stream",
     "name": "stdout",
     "text": [
      "X.shape: (506, 104)\n"
     ]
    }
   ],
   "source": [
    "import mglearn\n",
    "X, y = mglearn.datasets.load_extended_boston()\n",
    "print(\"X.shape: {}\".format(X.shape))"
   ]
  },
  {
   "cell_type": "code",
   "execution_count": 8,
   "metadata": {},
   "outputs": [],
   "source": [
    "from sklearn.linear_model import LinearRegression\n",
    "from sklearn.model_selection import train_test_split\n",
    "\n",
    "X_train, X_test, y_train, y_test = train_test_split(X, y, random_state=0)\n",
    "lr = LinearRegression().fit(X_train, y_train)"
   ]
  },
  {
   "cell_type": "code",
   "execution_count": 9,
   "metadata": {},
   "outputs": [
    {
     "output_type": "stream",
     "name": "stdout",
     "text": [
      "lr.coef_: [-4.12710947e+02 -5.22432068e+01 -1.31898815e+02 -1.20041365e+01\n -1.55107129e+01  2.87163342e+01  5.47040992e+01 -4.95346659e+01\n  2.65823927e+01  3.70620316e+01 -1.18281674e+01 -1.80581965e+01\n -1.95246830e+01  1.22025403e+01  2.98078144e+03  1.50084257e+03\n  1.14187325e+02 -1.69700520e+01  4.09613691e+01 -2.42636646e+01\n  5.76157466e+01  1.27812142e+03 -2.23986944e+03  2.22825472e+02\n -2.18201083e+00  4.29960320e+01 -1.33981515e+01 -1.93893485e+01\n -2.57541277e+00 -8.10130128e+01  9.66019367e+00  4.91423718e+00\n -8.12114800e-01 -7.64694179e+00  3.37837099e+01 -1.14464390e+01\n  6.85083979e+01 -1.73753604e+01  4.28128204e+01  1.13988209e+00\n -7.72696840e-01  5.68255921e+01  1.42875996e+01  5.39551110e+01\n -3.21709644e+01  1.92709675e+01 -1.38852338e+01  6.06343266e+01\n -1.23153942e+01 -1.20041365e+01 -1.77243899e+01 -3.39868183e+01\n  7.08999816e+00 -9.22538241e+00  1.71980268e+01 -1.27718431e+01\n -1.19727581e+01  5.73871915e+01 -1.75331865e+01  4.10103194e+00\n  2.93666477e+01 -1.76611772e+01  7.84049424e+01 -3.19098015e+01\n  4.81752461e+01 -3.95344813e+01  5.22959055e+00  2.19982410e+01\n  2.56483934e+01 -4.99982035e+01  2.91457545e+01  8.94267456e+00\n -7.16599297e+01 -2.28147862e+01  8.40660981e+00 -5.37905422e+00\n  1.20137322e+00 -5.20877186e+00  4.11452351e+01 -3.78250760e+01\n -2.67163851e+00 -2.55217108e+01 -3.33982030e+01  4.62272693e+01\n -2.41509169e+01 -1.77532970e+01 -1.39723701e+01 -2.35522208e+01\n  3.68353800e+01 -9.46890859e+01  1.44302810e+02 -1.51158659e+01\n -1.49513436e+01 -2.87729579e+01 -3.17673192e+01  2.49551594e+01\n -1.84384534e+01  3.65073948e+00  1.73101122e+00  3.53617137e+01\n  1.19553429e+01  6.77025947e-01  2.73452009e+00  3.03720012e+01]\nlr.intercept_: 30.934563673640866\n"
     ]
    }
   ],
   "source": [
    "print(\"lr.coef_: {}\".format(lr.coef_))\n",
    "print(\"lr.intercept_: {}\".format(lr.intercept_))"
   ]
  },
  {
   "cell_type": "code",
   "execution_count": 10,
   "metadata": {},
   "outputs": [
    {
     "output_type": "stream",
     "name": "stdout",
     "text": [
      "Training set score: 0.95\n",
      "Test set score: 0.61\n"
     ]
    }
   ],
   "source": [
    "print(\"Training set score: {:.2f}\".format(lr.score(X_train, y_train)))\n",
    "print(\"Test set score: {:.2f}\".format(lr.score(X_test, y_test)))"
   ]
  },
  {
   "cell_type": "code",
   "execution_count": null,
   "metadata": {},
   "outputs": [],
   "source": []
  }
 ]
}